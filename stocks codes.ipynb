{
 "cells": [
  {
   "cell_type": "code",
   "execution_count": 36,
   "id": "51bc58d0",
   "metadata": {},
   "outputs": [],
   "source": [
    "import pandas as pd\n",
    "from pandas import ExcelWriter\n",
    "from pandas import ExcelFile\n",
    "\n",
    "df=pd.read_excel(open('List of Stocks case study (1).xlsx', 'rb'),sheet_name='Sheet2',engine = 'openpyxl') "
   ]
  },
  {
   "cell_type": "code",
   "execution_count": 37,
   "id": "01023994",
   "metadata": {},
   "outputs": [],
   "source": [
    "df=df.iloc[:,1]"
   ]
  },
  {
   "cell_type": "code",
   "execution_count": 38,
   "id": "bea9f512",
   "metadata": {},
   "outputs": [],
   "source": [
    "symbols = df.tolist()"
   ]
  },
  {
   "cell_type": "code",
   "execution_count": 39,
   "id": "ca810ceb",
   "metadata": {},
   "outputs": [],
   "source": [
    "import pandas_datareader.data as web"
   ]
  },
  {
   "cell_type": "markdown",
   "id": "8ac73207",
   "metadata": {},
   "source": [
    "### here you check the data for individual symbol"
   ]
  },
  {
   "cell_type": "code",
   "execution_count": 44,
   "id": "2abb98e5",
   "metadata": {},
   "outputs": [],
   "source": [
    "df2 = web.DataReader('ACC'+'.ns', 'yahoo', start='2021-05-01', end='2021-08-31')"
   ]
  },
  {
   "cell_type": "code",
   "execution_count": 45,
   "id": "199ccb38",
   "metadata": {
    "scrolled": false
   },
   "outputs": [
    {
     "data": {
      "text/html": [
       "<div>\n",
       "<style scoped>\n",
       "    .dataframe tbody tr th:only-of-type {\n",
       "        vertical-align: middle;\n",
       "    }\n",
       "\n",
       "    .dataframe tbody tr th {\n",
       "        vertical-align: top;\n",
       "    }\n",
       "\n",
       "    .dataframe thead th {\n",
       "        text-align: right;\n",
       "    }\n",
       "</style>\n",
       "<table border=\"1\" class=\"dataframe\">\n",
       "  <thead>\n",
       "    <tr style=\"text-align: right;\">\n",
       "      <th></th>\n",
       "      <th>High</th>\n",
       "      <th>Low</th>\n",
       "      <th>Open</th>\n",
       "      <th>Close</th>\n",
       "      <th>Volume</th>\n",
       "      <th>Adj Close</th>\n",
       "    </tr>\n",
       "    <tr>\n",
       "      <th>Date</th>\n",
       "      <th></th>\n",
       "      <th></th>\n",
       "      <th></th>\n",
       "      <th></th>\n",
       "      <th></th>\n",
       "      <th></th>\n",
       "    </tr>\n",
       "  </thead>\n",
       "  <tbody>\n",
       "    <tr>\n",
       "      <th>2021-05-03</th>\n",
       "      <td>1904.900024</td>\n",
       "      <td>1853.199951</td>\n",
       "      <td>1860.0</td>\n",
       "      <td>1898.000000</td>\n",
       "      <td>501054</td>\n",
       "      <td>1898.000000</td>\n",
       "    </tr>\n",
       "    <tr>\n",
       "      <th>2021-05-04</th>\n",
       "      <td>1915.000000</td>\n",
       "      <td>1866.000000</td>\n",
       "      <td>1912.0</td>\n",
       "      <td>1869.000000</td>\n",
       "      <td>478133</td>\n",
       "      <td>1869.000000</td>\n",
       "    </tr>\n",
       "    <tr>\n",
       "      <th>2021-05-05</th>\n",
       "      <td>1897.949951</td>\n",
       "      <td>1870.099976</td>\n",
       "      <td>1875.0</td>\n",
       "      <td>1888.550049</td>\n",
       "      <td>381806</td>\n",
       "      <td>1888.550049</td>\n",
       "    </tr>\n",
       "    <tr>\n",
       "      <th>2021-05-06</th>\n",
       "      <td>1908.500000</td>\n",
       "      <td>1877.199951</td>\n",
       "      <td>1895.0</td>\n",
       "      <td>1896.250000</td>\n",
       "      <td>292905</td>\n",
       "      <td>1896.250000</td>\n",
       "    </tr>\n",
       "    <tr>\n",
       "      <th>2021-05-07</th>\n",
       "      <td>1928.900024</td>\n",
       "      <td>1896.050049</td>\n",
       "      <td>1903.0</td>\n",
       "      <td>1904.750000</td>\n",
       "      <td>641334</td>\n",
       "      <td>1904.750000</td>\n",
       "    </tr>\n",
       "  </tbody>\n",
       "</table>\n",
       "</div>"
      ],
      "text/plain": [
       "                   High          Low    Open        Close  Volume    Adj Close\n",
       "Date                                                                          \n",
       "2021-05-03  1904.900024  1853.199951  1860.0  1898.000000  501054  1898.000000\n",
       "2021-05-04  1915.000000  1866.000000  1912.0  1869.000000  478133  1869.000000\n",
       "2021-05-05  1897.949951  1870.099976  1875.0  1888.550049  381806  1888.550049\n",
       "2021-05-06  1908.500000  1877.199951  1895.0  1896.250000  292905  1896.250000\n",
       "2021-05-07  1928.900024  1896.050049  1903.0  1904.750000  641334  1904.750000"
      ]
     },
     "execution_count": 45,
     "metadata": {},
     "output_type": "execute_result"
    }
   ],
   "source": [
    "df2.head()"
   ]
  },
  {
   "cell_type": "code",
   "execution_count": 47,
   "id": "ad38398d",
   "metadata": {
    "scrolled": true
   },
   "outputs": [
    {
     "data": {
      "text/html": [
       "<div>\n",
       "<style scoped>\n",
       "    .dataframe tbody tr th:only-of-type {\n",
       "        vertical-align: middle;\n",
       "    }\n",
       "\n",
       "    .dataframe tbody tr th {\n",
       "        vertical-align: top;\n",
       "    }\n",
       "\n",
       "    .dataframe thead th {\n",
       "        text-align: right;\n",
       "    }\n",
       "</style>\n",
       "<table border=\"1\" class=\"dataframe\">\n",
       "  <thead>\n",
       "    <tr style=\"text-align: right;\">\n",
       "      <th></th>\n",
       "      <th>Close</th>\n",
       "    </tr>\n",
       "    <tr>\n",
       "      <th>Date</th>\n",
       "      <th></th>\n",
       "    </tr>\n",
       "  </thead>\n",
       "  <tbody>\n",
       "    <tr>\n",
       "      <th>2021-05-03</th>\n",
       "      <td>1898.000000</td>\n",
       "    </tr>\n",
       "    <tr>\n",
       "      <th>2021-05-04</th>\n",
       "      <td>1869.000000</td>\n",
       "    </tr>\n",
       "    <tr>\n",
       "      <th>2021-05-05</th>\n",
       "      <td>1888.550049</td>\n",
       "    </tr>\n",
       "    <tr>\n",
       "      <th>2021-05-06</th>\n",
       "      <td>1896.250000</td>\n",
       "    </tr>\n",
       "    <tr>\n",
       "      <th>2021-05-07</th>\n",
       "      <td>1904.750000</td>\n",
       "    </tr>\n",
       "  </tbody>\n",
       "</table>\n",
       "</div>"
      ],
      "text/plain": [
       "                  Close\n",
       "Date                   \n",
       "2021-05-03  1898.000000\n",
       "2021-05-04  1869.000000\n",
       "2021-05-05  1888.550049\n",
       "2021-05-06  1896.250000\n",
       "2021-05-07  1904.750000"
      ]
     },
     "execution_count": 47,
     "metadata": {},
     "output_type": "execute_result"
    }
   ],
   "source": [
    "df2[['Close']].head()"
   ]
  },
  {
   "cell_type": "code",
   "execution_count": 40,
   "id": "28f52d3c",
   "metadata": {},
   "outputs": [],
   "source": [
    "import pandas as pd"
   ]
  },
  {
   "cell_type": "code",
   "execution_count": 41,
   "id": "98724463",
   "metadata": {},
   "outputs": [],
   "source": [
    "import datetime as dt"
   ]
  },
  {
   "cell_type": "code",
   "execution_count": 42,
   "id": "b2e76aa3",
   "metadata": {},
   "outputs": [
    {
     "data": {
      "text/plain": [
       "['ACC       ', 'ADANIPORTS', 'ADANIENT  ', 'ADANIPOWER']"
      ]
     },
     "execution_count": 42,
     "metadata": {},
     "output_type": "execute_result"
    }
   ],
   "source": [
    "symbols[0:4]"
   ]
  },
  {
   "cell_type": "code",
   "execution_count": null,
   "id": "86ff2593",
   "metadata": {},
   "outputs": [],
   "source": []
  },
  {
   "cell_type": "markdown",
   "id": "cab4ff8d",
   "metadata": {},
   "source": [
    "### i had converted the series of data frame to list and i am looping over though it (i had use yahoo finace to get the data) and atlast i am save to csv file format of closing price "
   ]
  },
  {
   "cell_type": "code",
   "execution_count": 43,
   "id": "2a700c17",
   "metadata": {},
   "outputs": [
    {
     "name": "stdout",
     "output_type": "stream",
     "text": [
      "ACC       \n",
      "ADANIPORTS\n",
      "ADANIENT  \n",
      "ADANIPOWER\n",
      "AMBUJACEM \n"
     ]
    }
   ],
   "source": [
    "for i in symbols[0:5]:\n",
    "    print(i)\n",
    "    df1 = web.DataReader(i.strip()+'.ns', 'yahoo', start='2021-05-01', end='2021-08-31')\n",
    "    df1=df1[['Close']]\n",
    "    \n",
    "    df1.to_csv(i, sep='\\t')\n",
    "    "
   ]
  },
  {
   "cell_type": "code",
   "execution_count": null,
   "id": "dcc70e6f",
   "metadata": {},
   "outputs": [],
   "source": []
  },
  {
   "cell_type": "code",
   "execution_count": null,
   "id": "c209804d",
   "metadata": {},
   "outputs": [],
   "source": []
  },
  {
   "cell_type": "code",
   "execution_count": null,
   "id": "d00e53d4",
   "metadata": {},
   "outputs": [],
   "source": []
  }
 ],
 "metadata": {
  "kernelspec": {
   "display_name": "Python 3 (ipykernel)",
   "language": "python",
   "name": "python3"
  },
  "language_info": {
   "codemirror_mode": {
    "name": "ipython",
    "version": 3
   },
   "file_extension": ".py",
   "mimetype": "text/x-python",
   "name": "python",
   "nbconvert_exporter": "python",
   "pygments_lexer": "ipython3",
   "version": "3.6.13"
  }
 },
 "nbformat": 4,
 "nbformat_minor": 5
}
